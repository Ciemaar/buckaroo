{
 "cells": [
  {
   "cell_type": "code",
   "execution_count": 1,
   "id": "51091834-6d31-4e0e-b13c-a7be0a02ddb4",
   "metadata": {},
   "outputs": [
    {
     "name": "stdout",
     "output_type": "stream",
     "text": [
      "Intel MKL WARNING: Support of Intel(R) Streaming SIMD Extensions 4.2 (Intel(R) SSE4.2) enabled only processors has been deprecated. Intel oneAPI Math Kernel Library 2025.0 will require Intel(R) Advanced Vector Extensions (Intel(R) AVX) instructions.\n",
      "Intel MKL WARNING: Support of Intel(R) Streaming SIMD Extensions 4.2 (Intel(R) SSE4.2) enabled only processors has been deprecated. Intel oneAPI Math Kernel Library 2025.0 will require Intel(R) Advanced Vector Extensions (Intel(R) AVX) instructions.\n"
     ]
    }
   ],
   "source": [
    "import pandas as pd\n",
    "import numpy as np\n",
    "import json\n",
    "from buckaroo.buckaroo_widget import BuckarooWidget, disable, enable\n",
    "import matplotlib"
   ]
  },
  {
   "cell_type": "code",
   "execution_count": 2,
   "id": "30063897-1b67-4507-a3b8-0d98ab0f4b9f",
   "metadata": {},
   "outputs": [],
   "source": [
    "df = pd.read_parquet('banklist.parquet')\n",
    "bw = BuckarooWidget(df)"
   ]
  },
  {
   "cell_type": "code",
   "execution_count": 3,
   "id": "dd8b3a75-a615-402d-9c6c-fc57c2759fe4",
   "metadata": {},
   "outputs": [],
   "source": [
    "df2 = pd.read_csv('death-by-suicide-hispanic.csv')\n",
    "bw = BuckarooWidget(df2)"
   ]
  },
  {
   "cell_type": "code",
   "execution_count": 4,
   "id": "c223dcb4-a354-4f3a-b492-e6ae33c99188",
   "metadata": {},
   "outputs": [],
   "source": [
    "df3 = pd.read_parquet('Covid-data.gzip.parquet')\n",
    "bw = BuckarooWidget(df3)"
   ]
  },
  {
   "cell_type": "code",
   "execution_count": 6,
   "id": "c1c73c91-0343-417a-a45f-ef5f8c39e884",
   "metadata": {},
   "outputs": [
    {
     "name": "stderr",
     "output_type": "stream",
     "text": [
      "/var/folders/th/jfr8ccjx09g2j_18ty_t3xnh0000gn/T/ipykernel_93516/1813779222.py:1: DtypeWarning: Columns (2) have mixed types. Specify dtype option on import or set low_memory=False.\n",
      "  df4 = pd.read_csv('WPP2022_Demographic_Indicators_Medium.csv')\n"
     ]
    },
    {
     "name": "stdout",
     "output_type": "stream",
     "text": [
      "'<' not supported between instances of 'float' and 'str'\n"
     ]
    }
   ],
   "source": [
    "df4 = pd.read_csv('WPP2022_Demographic_Indicators_Medium.csv')\n",
    "bw = BuckarooWidget(df4)"
   ]
  },
  {
   "cell_type": "code",
   "execution_count": 7,
   "id": "97851149-49b4-41e2-a14f-ee9fbfcf7848",
   "metadata": {},
   "outputs": [],
   "source": [
    "df5 = pd.read_parquet('2014-01-citibike-trip-data.parquet')\n",
    "bw = BuckarooWidget(df5)"
   ]
  },
  {
   "cell_type": "code",
   "execution_count": 8,
   "id": "415dc2c0-dd8f-457b-a4f2-e067003ccb4b",
   "metadata": {},
   "outputs": [],
   "source": [
    "df6 =  pd.read_parquet('1993-flights.gzip.parquet')\n",
    "bw = BuckarooWidget(df6[:10_000])"
   ]
  },
  {
   "cell_type": "code",
   "execution_count": 9,
   "id": "ddcc8ec2-4045-4fa3-a80f-cde9e1864dff",
   "metadata": {},
   "outputs": [],
   "source": [
    "df8 = pd.read_csv('train_extended.csv')\n",
    "bw = BuckarooWidget(df8)"
   ]
  },
  {
   "cell_type": "code",
   "execution_count": 10,
   "id": "1bb274bb-27b0-4bb4-b296-7c246ced9ce5",
   "metadata": {},
   "outputs": [
    {
     "name": "stdout",
     "output_type": "stream",
     "text": [
      "error reordering columns cannot reindex on an axis with duplicate labels\n"
     ]
    },
    {
     "name": "stderr",
     "output_type": "stream",
     "text": [
      "/Users/paddy/buckaroo/buckaroo/summary_stats.py:184: FutureWarning: reindexing with a non-unique Index is deprecated and will raise in a future version.\n",
      "  sdf.loc['is_duplicate':, duplicate_cols] = -5\n"
     ]
    }
   ],
   "source": [
    "df9 = pd.read_csv('scorecard.csv')\n",
    "bw = BuckarooWidget(df9)"
   ]
  },
  {
   "cell_type": "code",
   "execution_count": 11,
   "id": "8e620ba5-7883-4422-9223-d4e67e03b243",
   "metadata": {},
   "outputs": [],
   "source": [
    "df10 = pd.read_csv('Machine_readable_file_bd_employ.csv')\n",
    "bw = BuckarooWidget(df10)"
   ]
  },
  {
   "cell_type": "code",
   "execution_count": 12,
   "id": "12553bd6-be53-4001-be9a-dfc939981d38",
   "metadata": {},
   "outputs": [
    {
     "name": "stdout",
     "output_type": "stream",
     "text": [
      "12.7 s ± 2.16 s per loop (mean ± std. dev. of 7 runs, 1 loop each)\n"
     ]
    }
   ],
   "source": [
    "%timeit bw = BuckarooWidget(df6)"
   ]
  },
  {
   "cell_type": "code",
   "execution_count": null,
   "id": "5d790153-359a-45dd-8b88-bfd87a5eb7f8",
   "metadata": {},
   "outputs": [],
   "source": []
  }
 ],
 "metadata": {
  "kernelspec": {
   "display_name": "Python 3 (ipykernel)",
   "language": "python",
   "name": "python3"
  },
  "language_info": {
   "codemirror_mode": {
    "name": "ipython",
    "version": 3
   },
   "file_extension": ".py",
   "mimetype": "text/x-python",
   "name": "python",
   "nbconvert_exporter": "python",
   "pygments_lexer": "ipython3",
   "version": "3.11.3"
  }
 },
 "nbformat": 4,
 "nbformat_minor": 5
}
