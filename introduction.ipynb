{
 "cells": [
  {
   "cell_type": "code",
   "execution_count": 1,
   "metadata": {},
   "outputs": [
    {
     "name": "stdout",
     "output_type": "stream",
     "text": [
      "exp ['always5']\n",
      "example.py {'fillna': [[3, 'fillVal', 'type', 'integer']], 'dropcol': [None], 'onehot': [None], 'groupby': [[3, 'colMap', 'colEnum', ['null', 'sum', 'mean', 'median', 'count']]]}\n"
     ]
    }
   ],
   "source": [
    "import myproject\n",
    "import pandas as pd\n",
    "import json\n",
    "import numpy as np"
   ]
  },
  {
   "cell_type": "code",
   "execution_count": 2,
   "metadata": {},
   "outputs": [],
   "source": [
    "df = pd.read_csv('./problem.csv')\n",
    "df2 = pd.read_csv('../dcf-server/sample_data/yellow_tripdata_2021-02.csv')"
   ]
  },
  {
   "cell_type": "code",
   "execution_count": 3,
   "metadata": {},
   "outputs": [
    {
     "data": {
      "application/vnd.jupyter.widget-view+json": {
       "model_id": "1f630586817040ce8a17a52ed0803c3c",
       "version_major": 2,
       "version_minor": 0
      },
      "text/plain": [
       "ExampleWidget(command_config={'commandPatterns': {'fillna': [[3, 'fillVal', 'type', 'integer']], 'dropcol': [N…"
      ]
     },
     "execution_count": 3,
     "metadata": {},
     "output_type": "execute_result"
    }
   ],
   "source": [
    "w = myproject.ExampleWidget(df=df)\n",
    "w"
   ]
  },
  {
   "cell_type": "code",
   "execution_count": 5,
   "metadata": {},
   "outputs": [],
   "source": [
    "small_command_config = {'commandPatterns': {'fillna': [[3, 'fillVal', 'type', 'integer']],\n",
    "  'dropcol': [None],\n",
    "  'onehot': [None]},\n",
    " 'commandDefaults': {'fillna': [{'symbol': 'fillna'},\n",
    "   {'symbol': 'df'},\n",
    "   'col',\n",
    "   8],\n",
    "  'dropcol': [{'symbol': 'dropcol'}, {'symbol': 'df'}, 'col'],\n",
    "  'onehot': [{'symbol': 'onehot'}, {'symbol': 'df'}, 'col']}}\n",
    "w.command_config = small_command_config"
   ]
  },
  {
   "cell_type": "code",
   "execution_count": 7,
   "metadata": {},
   "outputs": [],
   "source": [
    "orig_command_config = {'commandPatterns': {'fillna': [[3, 'fillVal', 'type', 'integer']],\n",
    "  'dropcol': [None],\n",
    "  'onehot': [None],\n",
    "  'groupby': [[3,\n",
    "    'colMap',\n",
    "    'colEnum',\n",
    "    ['null', 'sum', 'mean', 'median', 'count']]]},\n",
    " 'commandDefaults': {'fillna': [{'symbol': 'fillna'},\n",
    "   {'symbol': 'df'},\n",
    "   'col',\n",
    "   8],\n",
    "  'dropcol': [{'symbol': 'dropcol'}, {'symbol': 'df'}, 'col'],\n",
    "  'onehot': [{'symbol': 'onehot'}, {'symbol': 'df'}, 'col'],\n",
    "  'groupby': [{'symbol': 'groupby'}, {'symbol': 'df'}, 'col', {}]}}"
   ]
  },
  {
   "cell_type": "code",
   "execution_count": null,
   "metadata": {},
   "outputs": [],
   "source": [
    "df2"
   ]
  },
  {
   "cell_type": "code",
   "execution_count": null,
   "metadata": {},
   "outputs": [],
   "source": [
    "w.transform_error"
   ]
  },
  {
   "cell_type": "code",
   "execution_count": null,
   "metadata": {},
   "outputs": [],
   "source": [
    "w2 = myproject.ExampleWidget(df2)\n",
    "w2"
   ]
  },
  {
   "cell_type": "code",
   "execution_count": null,
   "metadata": {},
   "outputs": [],
   "source": [
    "w"
   ]
  },
  {
   "cell_type": "code",
   "execution_count": null,
   "metadata": {},
   "outputs": [],
   "source": [
    "w.transformed_df = json.loads(df.to_json(orient='table', indent=2))"
   ]
  },
  {
   "cell_type": "code",
   "execution_count": null,
   "metadata": {},
   "outputs": [],
   "source": [
    "w.transformed_df.on?"
   ]
  },
  {
   "cell_type": "code",
   "execution_count": null,
   "metadata": {},
   "outputs": [],
   "source": [
    "from myproject.dcf import "
   ]
  },
  {
   "cell_type": "code",
   "execution_count": null,
   "metadata": {},
   "outputs": [],
   "source": [
    "w.value"
   ]
  },
  {
   "cell_type": "code",
   "execution_count": null,
   "metadata": {},
   "outputs": [],
   "source": [
    "w.value2"
   ]
  },
  {
   "cell_type": "code",
   "execution_count": null,
   "metadata": {},
   "outputs": [],
   "source": [
    "w.commands"
   ]
  },
  {
   "cell_type": "code",
   "execution_count": null,
   "metadata": {},
   "outputs": [],
   "source": [
    "assert w.value == 'Hello World'"
   ]
  },
  {
   "cell_type": "code",
   "execution_count": null,
   "metadata": {},
   "outputs": [],
   "source": [
    "w.value = \"asdfasdf\""
   ]
  },
  {
   "cell_type": "code",
   "execution_count": null,
   "metadata": {},
   "outputs": [],
   "source": []
  }
 ],
 "metadata": {
  "kernelspec": {
   "display_name": "Python 3 (ipykernel)",
   "language": "python",
   "name": "python3"
  },
  "language_info": {
   "codemirror_mode": {
    "name": "ipython",
    "version": 3
   },
   "file_extension": ".py",
   "mimetype": "text/x-python",
   "name": "python",
   "nbconvert_exporter": "python",
   "pygments_lexer": "ipython3",
   "version": "3.11.2"
  }
 },
 "nbformat": 4,
 "nbformat_minor": 4
}
